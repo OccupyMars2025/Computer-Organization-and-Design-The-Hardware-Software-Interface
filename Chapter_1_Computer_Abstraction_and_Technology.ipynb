{
  "nbformat": 4,
  "nbformat_minor": 0,
  "metadata": {
    "colab": {
      "provenance": [],
      "authorship_tag": "ABX9TyMQa7cr0sxekJSz42WAHcXv",
      "include_colab_link": true
    },
    "kernelspec": {
      "name": "python3",
      "display_name": "Python 3"
    },
    "language_info": {
      "name": "python"
    }
  },
  "cells": [
    {
      "cell_type": "markdown",
      "metadata": {
        "id": "view-in-github",
        "colab_type": "text"
      },
      "source": [
        "<a href=\"https://colab.research.google.com/github/OccupyMars2025/Computer-Organization-and-Design-The-Hardware-Software-Interface/blob/main/Chapter_1_Computer_Abstraction_and_Technology.ipynb\" target=\"_parent\"><img src=\"https://colab.research.google.com/assets/colab-badge.svg\" alt=\"Open In Colab\"/></a>"
      ]
    },
    {
      "cell_type": "code",
      "execution_count": null,
      "metadata": {
        "id": "acQnbmI_sW8P"
      },
      "outputs": [],
      "source": []
    }
  ]
}